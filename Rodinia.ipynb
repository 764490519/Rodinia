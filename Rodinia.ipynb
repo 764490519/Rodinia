{
  "nbformat": 4,
  "nbformat_minor": 0,
  "metadata": {
    "colab": {
      "provenance": [],
      "gpuType": "T4",
      "mount_file_id": "12_us3qeamm29m0jXUs_ONJ3Eh7F-RqVw",
      "authorship_tag": "ABX9TyMWpxRtjmWxiXOejbwrLyk0",
      "include_colab_link": true
    },
    "kernelspec": {
      "name": "python3",
      "display_name": "Python 3"
    },
    "language_info": {
      "name": "python"
    },
    "accelerator": "GPU"
  },
  "cells": [
    {
      "cell_type": "markdown",
      "metadata": {
        "id": "view-in-github",
        "colab_type": "text"
      },
      "source": [
        "<a href=\"https://colab.research.google.com/github/764490519/Rodinia/blob/master/Rodinia.ipynb\" target=\"_parent\"><img src=\"https://colab.research.google.com/assets/colab-badge.svg\" alt=\"Open In Colab\"/></a>"
      ]
    },
    {
      "cell_type": "code",
      "source": [
        "# 获得权限\n",
        "!chmod +x /content/drive/MyDrive/rodinia_3.1/bin/linux/cuda/*"
      ],
      "metadata": {
        "id": "XfVLjW7HKDt8"
      },
      "execution_count": null,
      "outputs": []
    },
    {
      "cell_type": "code",
      "source": [
        "# 编译nn\n",
        "%cd /content/drive/MyDrive/rodinia_3.1/cuda/nn\n",
        "!make"
      ],
      "metadata": {
        "colab": {
          "base_uri": "https://localhost:8080/"
        },
        "id": "DcT-6hicJgeK",
        "outputId": "aaee4475-f3e9-41a6-9200-bd39563adf0f"
      },
      "execution_count": null,
      "outputs": [
        {
          "output_type": "stream",
          "name": "stdout",
          "text": [
            "/content/drive/MyDrive/rodinia_3.1/cuda/nn\n",
            "/usr/local/cuda/bin/nvcc -cuda nn_cuda.cu\n",
            "nvcc error   : 'gcc' died due to signal 2 \n",
            "make: *** [Makefile:12: nn] Error 2\n",
            "^C\n"
          ]
        }
      ]
    },
    {
      "cell_type": "code",
      "source": [
        "# 执行\n",
        "%cd /content/drive/MyDrive/rodinia_3.1/cuda/nn\n",
        "!make\n",
        "!nvprof -f --output-profile nn_3.nvprof  /content/drive/MyDrive/rodinia_3.1/cuda/nn/nn list5120k_512.txt -q -r 3000\n",
        "# !nvprof /content/drive/MyDrive/rodinia_3.1/cuda/nn/nn list5120k_512.txt -q -r 100000\n",
        "# !/content/drive/MyDrive/rodinia_3.1/cuda/nn/nn list5120k_512.txt -q -r 1000"
      ],
      "metadata": {
        "colab": {
          "base_uri": "https://localhost:8080/"
        },
        "outputId": "b2370fe0-cf21-495b-f0bc-33841cee2d09",
        "id": "VFwGd6cYhYFi"
      },
      "execution_count": null,
      "outputs": [
        {
          "output_type": "stream",
          "name": "stdout",
          "text": [
            "/content/drive/MyDrive/rodinia_3.1/cuda/nn\n",
            "/usr/local/cuda/bin/nvcc -cuda nn_cuda.cu\n",
            "/usr/local/cuda/bin/nvcc -o nn nn_cuda.cu\n",
            "==10648== NVPROF is profiling process 10648, command: /content/drive/MyDrive/rodinia_3.1/cuda/nn/nn list5120k_512.txt -q -r 3000\n",
            "grid_min : 1\n",
            "totalDeviceMemory: 15835660288\n",
            "freeDeviceMemory: 15715074048\n",
            "usableDeviceMemory: 13357812940\n",
            "maxGridX: 2147483647\n",
            "deviceProp.maxThreadsPerBlock: 1024\n",
            "threadsPerBlock: 1024\n",
            "maxThreads: 1113151078\n",
            "blocks: 5120\n",
            "gridY: 1\n",
            "gridX: 5120\n",
            "numRecords: 5242880\n",
            "numStreams: 4\n",
            "blockSize: 1310720\n",
            "Timing - Execuation Time. \t\tElasped 3847433 microseconds \n",
            "==10648== Generated result file: /content/drive/MyDrive/rodinia_3.1/cuda/nn/nn_3.nvprof\n"
          ]
        }
      ]
    },
    {
      "cell_type": "code",
      "source": [],
      "metadata": {
        "id": "kPHWTHcXJd0V"
      },
      "execution_count": null,
      "outputs": []
    }
  ]
}